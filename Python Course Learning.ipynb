{
 "cells": [
  {
   "cell_type": "markdown",
   "id": "f30b0346",
   "metadata": {},
   "source": [
    "# Numbers"
   ]
  },
  {
   "cell_type": "markdown",
   "id": "715cc191",
   "metadata": {},
   "source": [
    "### Basic Math"
   ]
  },
  {
   "cell_type": "code",
   "execution_count": 1,
   "id": "08fdd228",
   "metadata": {},
   "outputs": [
    {
     "data": {
      "text/plain": [
       "3"
      ]
     },
     "execution_count": 1,
     "metadata": {},
     "output_type": "execute_result"
    }
   ],
   "source": [
    "2+1"
   ]
  },
  {
   "cell_type": "code",
   "execution_count": 3,
   "id": "09ba6e96",
   "metadata": {},
   "outputs": [
    {
     "data": {
      "text/plain": [
       "1"
      ]
     },
     "execution_count": 3,
     "metadata": {},
     "output_type": "execute_result"
    }
   ],
   "source": [
    "2-1"
   ]
  },
  {
   "cell_type": "code",
   "execution_count": 4,
   "id": "e4ac17fa",
   "metadata": {},
   "outputs": [
    {
     "data": {
      "text/plain": [
       "20"
      ]
     },
     "execution_count": 4,
     "metadata": {},
     "output_type": "execute_result"
    }
   ],
   "source": [
    "4*5"
   ]
  },
  {
   "cell_type": "code",
   "execution_count": 5,
   "id": "aea1b623",
   "metadata": {},
   "outputs": [
    {
     "data": {
      "text/plain": [
       "1.5"
      ]
     },
     "execution_count": 5,
     "metadata": {},
     "output_type": "execute_result"
    }
   ],
   "source": [
    "3/2"
   ]
  },
  {
   "cell_type": "markdown",
   "id": "88a6197c",
   "metadata": {},
   "source": [
    "#### Modulo or \"Mod\" Operator (the remainder after division)"
   ]
  },
  {
   "cell_type": "code",
   "execution_count": 6,
   "id": "9a126b04",
   "metadata": {},
   "outputs": [
    {
     "data": {
      "text/plain": [
       "3"
      ]
     },
     "execution_count": 6,
     "metadata": {},
     "output_type": "execute_result"
    }
   ],
   "source": [
    "7 % 4"
   ]
  },
  {
   "cell_type": "code",
   "execution_count": 7,
   "id": "0ad4e730",
   "metadata": {},
   "outputs": [
    {
     "data": {
      "text/plain": [
       "0"
      ]
     },
     "execution_count": 7,
     "metadata": {},
     "output_type": "execute_result"
    }
   ],
   "source": [
    "50 % 5"
   ]
  },
  {
   "cell_type": "markdown",
   "id": "a69de781",
   "metadata": {},
   "source": [
    "For example if you want to know if a number is even or not, you can use % 2"
   ]
  },
  {
   "cell_type": "code",
   "execution_count": 9,
   "id": "a81fc659",
   "metadata": {},
   "outputs": [
    {
     "data": {
      "text/plain": [
       "1"
      ]
     },
     "execution_count": 9,
     "metadata": {},
     "output_type": "execute_result"
    }
   ],
   "source": [
    "41 % 2 #gives a remainder of 1, so not even"
   ]
  },
  {
   "cell_type": "markdown",
   "id": "2f43c0d7",
   "metadata": {},
   "source": [
    "#### Power"
   ]
  },
  {
   "cell_type": "code",
   "execution_count": 10,
   "id": "31a6ff51",
   "metadata": {},
   "outputs": [
    {
     "data": {
      "text/plain": [
       "8"
      ]
     },
     "execution_count": 10,
     "metadata": {},
     "output_type": "execute_result"
    }
   ],
   "source": [
    "2 ** 3"
   ]
  },
  {
   "cell_type": "code",
   "execution_count": 11,
   "id": "b427f5d0",
   "metadata": {},
   "outputs": [
    {
     "data": {
      "text/plain": [
       "105"
      ]
     },
     "execution_count": 11,
     "metadata": {},
     "output_type": "execute_result"
    }
   ],
   "source": [
    "2 + 10 * 10 + 3"
   ]
  },
  {
   "cell_type": "code",
   "execution_count": 12,
   "id": "90ca9ed7",
   "metadata": {},
   "outputs": [
    {
     "data": {
      "text/plain": [
       "156"
      ]
     },
     "execution_count": 12,
     "metadata": {},
     "output_type": "execute_result"
    }
   ],
   "source": [
    "(2+10) * (10+3)"
   ]
  },
  {
   "cell_type": "markdown",
   "id": "3bdcd757",
   "metadata": {},
   "source": [
    "## Assigning variables"
   ]
  },
  {
   "cell_type": "code",
   "execution_count": 13,
   "id": "964cb340",
   "metadata": {},
   "outputs": [],
   "source": [
    "a = 5"
   ]
  },
  {
   "cell_type": "code",
   "execution_count": 14,
   "id": "4613ed9c",
   "metadata": {},
   "outputs": [
    {
     "data": {
      "text/plain": [
       "5"
      ]
     },
     "execution_count": 14,
     "metadata": {},
     "output_type": "execute_result"
    }
   ],
   "source": [
    "a"
   ]
  },
  {
   "cell_type": "code",
   "execution_count": 16,
   "id": "41279dc8",
   "metadata": {},
   "outputs": [],
   "source": [
    "a = 10"
   ]
  },
  {
   "cell_type": "code",
   "execution_count": 17,
   "id": "88ec3aa6",
   "metadata": {},
   "outputs": [
    {
     "data": {
      "text/plain": [
       "10"
      ]
     },
     "execution_count": 17,
     "metadata": {},
     "output_type": "execute_result"
    }
   ],
   "source": [
    "a"
   ]
  },
  {
   "cell_type": "code",
   "execution_count": 18,
   "id": "7ff341a7",
   "metadata": {},
   "outputs": [
    {
     "data": {
      "text/plain": [
       "20"
      ]
     },
     "execution_count": 18,
     "metadata": {},
     "output_type": "execute_result"
    }
   ],
   "source": [
    "a + a"
   ]
  },
  {
   "cell_type": "code",
   "execution_count": 19,
   "id": "a2888ff5",
   "metadata": {},
   "outputs": [],
   "source": [
    "a = a + a"
   ]
  },
  {
   "cell_type": "code",
   "execution_count": 20,
   "id": "99c70071",
   "metadata": {},
   "outputs": [
    {
     "data": {
      "text/plain": [
       "20"
      ]
     },
     "execution_count": 20,
     "metadata": {},
     "output_type": "execute_result"
    }
   ],
   "source": [
    "a"
   ]
  },
  {
   "cell_type": "markdown",
   "id": "ef8f39d2",
   "metadata": {},
   "source": [
    "#### To check the type of a variable"
   ]
  },
  {
   "cell_type": "code",
   "execution_count": 21,
   "id": "8a7ac7de",
   "metadata": {},
   "outputs": [
    {
     "data": {
      "text/plain": [
       "int"
      ]
     },
     "execution_count": 21,
     "metadata": {},
     "output_type": "execute_result"
    }
   ],
   "source": [
    "type(a)"
   ]
  },
  {
   "cell_type": "markdown",
   "id": "526915e4",
   "metadata": {},
   "source": [
    "Reassigning to a different variable type"
   ]
  },
  {
   "cell_type": "code",
   "execution_count": 22,
   "id": "6015d627",
   "metadata": {},
   "outputs": [],
   "source": [
    "a = 30.1"
   ]
  },
  {
   "cell_type": "code",
   "execution_count": 23,
   "id": "7a1de8bd",
   "metadata": {},
   "outputs": [
    {
     "data": {
      "text/plain": [
       "float"
      ]
     },
     "execution_count": 23,
     "metadata": {},
     "output_type": "execute_result"
    }
   ],
   "source": [
    "type(a)"
   ]
  },
  {
   "cell_type": "markdown",
   "id": "590ada75",
   "metadata": {},
   "source": [
    "Example of how we can use this:"
   ]
  },
  {
   "cell_type": "code",
   "execution_count": 25,
   "id": "f3018c2a",
   "metadata": {},
   "outputs": [],
   "source": [
    "my_income = 100\n",
    "\n",
    "tax_rate = 0.1\n",
    "\n",
    "my_taxes = my_income * tax_rate"
   ]
  },
  {
   "cell_type": "code",
   "execution_count": 26,
   "id": "ff2014e1",
   "metadata": {},
   "outputs": [
    {
     "data": {
      "text/plain": [
       "10.0"
      ]
     },
     "execution_count": 26,
     "metadata": {},
     "output_type": "execute_result"
    }
   ],
   "source": [
    "my_taxes"
   ]
  },
  {
   "cell_type": "markdown",
   "id": "d2325548",
   "metadata": {},
   "source": [
    "# Strings"
   ]
  },
  {
   "cell_type": "code",
   "execution_count": 27,
   "id": "ebad4b59",
   "metadata": {},
   "outputs": [
    {
     "data": {
      "text/plain": [
       "'hello'"
      ]
     },
     "execution_count": 27,
     "metadata": {},
     "output_type": "execute_result"
    }
   ],
   "source": [
    "'hello'"
   ]
  },
  {
   "cell_type": "code",
   "execution_count": 28,
   "id": "68f9f634",
   "metadata": {},
   "outputs": [
    {
     "data": {
      "text/plain": [
       "'world'"
      ]
     },
     "execution_count": 28,
     "metadata": {},
     "output_type": "execute_result"
    }
   ],
   "source": [
    "\"world\""
   ]
  },
  {
   "cell_type": "code",
   "execution_count": 29,
   "id": "16557b38",
   "metadata": {},
   "outputs": [
    {
     "data": {
      "text/plain": [
       "'this is also a string'"
      ]
     },
     "execution_count": 29,
     "metadata": {},
     "output_type": "execute_result"
    }
   ],
   "source": [
    "'this is also a string'"
   ]
  },
  {
   "cell_type": "code",
   "execution_count": 30,
   "id": "8fa3eff4",
   "metadata": {},
   "outputs": [
    {
     "name": "stdout",
     "output_type": "stream",
     "text": [
      "hello\n"
     ]
    }
   ],
   "source": [
    "print(\"hello\") #doesn't give an output and prints only the inner part of the string"
   ]
  },
  {
   "cell_type": "markdown",
   "id": "a24df57b",
   "metadata": {},
   "source": [
    "This is important because:"
   ]
  },
  {
   "cell_type": "code",
   "execution_count": 32,
   "id": "490e833b",
   "metadata": {},
   "outputs": [
    {
     "data": {
      "text/plain": [
       "'hello world two'"
      ]
     },
     "execution_count": 32,
     "metadata": {},
     "output_type": "execute_result"
    }
   ],
   "source": [
    "\"hello world one\"\n",
    "\"hello world two\" #only prints the second"
   ]
  },
  {
   "cell_type": "code",
   "execution_count": 33,
   "id": "8e2b6096",
   "metadata": {},
   "outputs": [
    {
     "name": "stdout",
     "output_type": "stream",
     "text": [
      "hellow world one\n",
      "hello world two\n"
     ]
    }
   ],
   "source": [
    "print(\"hellow world one\")\n",
    "print(\"hello world two\")"
   ]
  },
  {
   "cell_type": "markdown",
   "id": "f34c6551",
   "metadata": {},
   "source": [
    "#### Escape character \\n for printing in a new line"
   ]
  },
  {
   "cell_type": "code",
   "execution_count": 36,
   "id": "3c0afb82",
   "metadata": {},
   "outputs": [
    {
     "name": "stdout",
     "output_type": "stream",
     "text": [
      "hello \n",
      "world\n"
     ]
    }
   ],
   "source": [
    "print('hello \\nworld')"
   ]
  },
  {
   "cell_type": "markdown",
   "id": "3ee68da0",
   "metadata": {},
   "source": [
    "#### Escape character \\t for tab"
   ]
  },
  {
   "cell_type": "code",
   "execution_count": 37,
   "id": "2726e280",
   "metadata": {},
   "outputs": [
    {
     "name": "stdout",
     "output_type": "stream",
     "text": [
      "hello \tworld\n"
     ]
    }
   ],
   "source": [
    "print(\"hello \\tworld\")"
   ]
  },
  {
   "cell_type": "markdown",
   "id": "5c853a6d",
   "metadata": {},
   "source": [
    "Check length of a string"
   ]
  },
  {
   "cell_type": "code",
   "execution_count": 38,
   "id": "64e8e0b6",
   "metadata": {},
   "outputs": [
    {
     "data": {
      "text/plain": [
       "5"
      ]
     },
     "execution_count": 38,
     "metadata": {},
     "output_type": "execute_result"
    }
   ],
   "source": [
    "len('hello')"
   ]
  },
  {
   "cell_type": "code",
   "execution_count": 40,
   "id": "29cff9a0",
   "metadata": {},
   "outputs": [
    {
     "data": {
      "text/plain": [
       "4"
      ]
     },
     "execution_count": 40,
     "metadata": {},
     "output_type": "execute_result"
    }
   ],
   "source": [
    "len('I am') #the space counts as a character"
   ]
  },
  {
   "cell_type": "markdown",
   "id": "eef1d2b0",
   "metadata": {},
   "source": [
    "### String indexing"
   ]
  },
  {
   "cell_type": "code",
   "execution_count": 41,
   "id": "0af0d9b6",
   "metadata": {},
   "outputs": [],
   "source": [
    "mystring = \"Hello World\""
   ]
  },
  {
   "cell_type": "code",
   "execution_count": 42,
   "id": "484d1eb0",
   "metadata": {},
   "outputs": [
    {
     "data": {
      "text/plain": [
       "'Hello World'"
      ]
     },
     "execution_count": 42,
     "metadata": {},
     "output_type": "execute_result"
    }
   ],
   "source": [
    "mystring"
   ]
  },
  {
   "cell_type": "markdown",
   "id": "134a8a41",
   "metadata": {},
   "source": [
    "To grab a single charcter from a string using indexing"
   ]
  },
  {
   "cell_type": "code",
   "execution_count": 43,
   "id": "1cc4083a",
   "metadata": {},
   "outputs": [
    {
     "data": {
      "text/plain": [
       "'H'"
      ]
     },
     "execution_count": 43,
     "metadata": {},
     "output_type": "execute_result"
    }
   ],
   "source": [
    "mystring[0]"
   ]
  },
  {
   "cell_type": "code",
   "execution_count": 44,
   "id": "6a536444",
   "metadata": {},
   "outputs": [
    {
     "data": {
      "text/plain": [
       "'r'"
      ]
     },
     "execution_count": 44,
     "metadata": {},
     "output_type": "execute_result"
    }
   ],
   "source": [
    "mystring[8]"
   ]
  },
  {
   "cell_type": "markdown",
   "id": "9b0244cb",
   "metadata": {},
   "source": [
    "Negative indexing"
   ]
  },
  {
   "cell_type": "code",
   "execution_count": 45,
   "id": "475ad785",
   "metadata": {},
   "outputs": [
    {
     "data": {
      "text/plain": [
       "'d'"
      ]
     },
     "execution_count": 45,
     "metadata": {},
     "output_type": "execute_result"
    }
   ],
   "source": [
    "mystring[-1]"
   ]
  },
  {
   "cell_type": "code",
   "execution_count": 46,
   "id": "5329052d",
   "metadata": {},
   "outputs": [
    {
     "data": {
      "text/plain": [
       "'r'"
      ]
     },
     "execution_count": 46,
     "metadata": {},
     "output_type": "execute_result"
    }
   ],
   "source": [
    "mystring[-3]"
   ]
  },
  {
   "cell_type": "markdown",
   "id": "8d528018",
   "metadata": {},
   "source": [
    "### Slicing to grab a subsection of a string"
   ]
  },
  {
   "cell_type": "code",
   "execution_count": 47,
   "id": "61b1216c",
   "metadata": {},
   "outputs": [],
   "source": [
    "mystring = \"abcdefghijk\""
   ]
  },
  {
   "cell_type": "code",
   "execution_count": 48,
   "id": "86cf2d8e",
   "metadata": {},
   "outputs": [
    {
     "data": {
      "text/plain": [
       "'abcdefghijk'"
      ]
     },
     "execution_count": 48,
     "metadata": {},
     "output_type": "execute_result"
    }
   ],
   "source": [
    "mystring"
   ]
  },
  {
   "cell_type": "code",
   "execution_count": 49,
   "id": "9d197fb4",
   "metadata": {},
   "outputs": [
    {
     "data": {
      "text/plain": [
       "'cdefghijk'"
      ]
     },
     "execution_count": 49,
     "metadata": {},
     "output_type": "execute_result"
    }
   ],
   "source": [
    "mystring[2:] #this takes from the second index (here, c) to the end"
   ]
  },
  {
   "cell_type": "code",
   "execution_count": 51,
   "id": "d4d486a2",
   "metadata": {},
   "outputs": [
    {
     "data": {
      "text/plain": [
       "'abc'"
      ]
     },
     "execution_count": 51,
     "metadata": {},
     "output_type": "execute_result"
    }
   ],
   "source": [
    "mystring[:3] #this takes from the beginning to the last index (here, d) but the last index is not included"
   ]
  },
  {
   "cell_type": "code",
   "execution_count": 52,
   "id": "c9b3b881",
   "metadata": {},
   "outputs": [
    {
     "data": {
      "text/plain": [
       "'def'"
      ]
     },
     "execution_count": 52,
     "metadata": {},
     "output_type": "execute_result"
    }
   ],
   "source": [
    "mystring[3:6] #starting at index 3, upto but not including index 6"
   ]
  },
  {
   "cell_type": "code",
   "execution_count": 53,
   "id": "8ce46db6",
   "metadata": {},
   "outputs": [
    {
     "data": {
      "text/plain": [
       "'bc'"
      ]
     },
     "execution_count": 53,
     "metadata": {},
     "output_type": "execute_result"
    }
   ],
   "source": [
    "mystring[1:3] #starting at index 1, upto but not including index 3"
   ]
  },
  {
   "cell_type": "code",
   "execution_count": 54,
   "id": "ac387be6",
   "metadata": {},
   "outputs": [
    {
     "data": {
      "text/plain": [
       "'abcdefghijk'"
      ]
     },
     "execution_count": 54,
     "metadata": {},
     "output_type": "execute_result"
    }
   ],
   "source": [
    "mystring[::] #starting at the beginning, all the way to the end"
   ]
  },
  {
   "cell_type": "markdown",
   "id": "d156c9ee",
   "metadata": {},
   "source": [
    "Indicating step-size of the jump while slicing"
   ]
  },
  {
   "cell_type": "code",
   "execution_count": 56,
   "id": "ba481254",
   "metadata": {},
   "outputs": [
    {
     "data": {
      "text/plain": [
       "'acegik'"
      ]
     },
     "execution_count": 56,
     "metadata": {},
     "output_type": "execute_result"
    }
   ],
   "source": [
    "mystring[::2] #starting at the beginning, all the way to the end, but take (or jump) every 2nd character"
   ]
  },
  {
   "cell_type": "code",
   "execution_count": 57,
   "id": "9bc86f42",
   "metadata": {},
   "outputs": [
    {
     "data": {
      "text/plain": [
       "'adgj'"
      ]
     },
     "execution_count": 57,
     "metadata": {},
     "output_type": "execute_result"
    }
   ],
   "source": [
    "mystring[::3] #starting at the beginning, all the way to the end, but take (or jump) every 3rd character"
   ]
  },
  {
   "cell_type": "code",
   "execution_count": 58,
   "id": "f56c8fb2",
   "metadata": {},
   "outputs": [
    {
     "data": {
      "text/plain": [
       "'ceg'"
      ]
     },
     "execution_count": 58,
     "metadata": {},
     "output_type": "execute_result"
    }
   ],
   "source": [
    "mystring[2:7:2] #strting at index 2, upto but not including index 7, take (or jump) every 2nd character"
   ]
  },
  {
   "cell_type": "markdown",
   "id": "c0023de1",
   "metadata": {},
   "source": [
    "Trick to reverse a string"
   ]
  },
  {
   "cell_type": "code",
   "execution_count": 59,
   "id": "d9bfc209",
   "metadata": {},
   "outputs": [
    {
     "data": {
      "text/plain": [
       "'kjihgfedcba'"
      ]
     },
     "execution_count": 59,
     "metadata": {},
     "output_type": "execute_result"
    }
   ],
   "source": [
    "mystring[::-1] #starting at the beginning, all the way to the end, but take (or jump) every character from the back"
   ]
  },
  {
   "cell_type": "markdown",
   "id": "d49c3858",
   "metadata": {},
   "source": [
    "Can do it without assigning a variable"
   ]
  },
  {
   "cell_type": "code",
   "execution_count": 61,
   "id": "f2946f47",
   "metadata": {},
   "outputs": [
    {
     "data": {
      "text/plain": [
       "'r'"
      ]
     },
     "execution_count": 61,
     "metadata": {},
     "output_type": "execute_result"
    }
   ],
   "source": [
    "'Hello World'[-3]"
   ]
  },
  {
   "cell_type": "markdown",
   "id": "8be4fe39",
   "metadata": {},
   "source": [
    "Immutability"
   ]
  },
  {
   "cell_type": "code",
   "execution_count": 63,
   "id": "42ba15d6",
   "metadata": {},
   "outputs": [],
   "source": [
    "name = \"Sam\""
   ]
  },
  {
   "cell_type": "markdown",
   "id": "76f8adc8",
   "metadata": {},
   "source": [
    "If we want to say, replace Sam with Pam, you cannot:"
   ]
  },
  {
   "cell_type": "code",
   "execution_count": 64,
   "id": "4bf7f094",
   "metadata": {
    "scrolled": true
   },
   "outputs": [
    {
     "ename": "TypeError",
     "evalue": "'str' object does not support item assignment",
     "output_type": "error",
     "traceback": [
      "\u001b[1;31m---------------------------------------------------------------------------\u001b[0m",
      "\u001b[1;31mTypeError\u001b[0m                                 Traceback (most recent call last)",
      "Input \u001b[1;32mIn [64]\u001b[0m, in \u001b[0;36m<cell line: 1>\u001b[1;34m()\u001b[0m\n\u001b[1;32m----> 1\u001b[0m name[\u001b[38;5;241m0\u001b[39m] \u001b[38;5;241m=\u001b[39m \u001b[38;5;124m'\u001b[39m\u001b[38;5;124mP\u001b[39m\u001b[38;5;124m'\u001b[39m\n",
      "\u001b[1;31mTypeError\u001b[0m: 'str' object does not support item assignment"
     ]
    }
   ],
   "source": [
    "name[0] = 'P'"
   ]
  },
  {
   "cell_type": "markdown",
   "id": "906e2611",
   "metadata": {},
   "source": [
    "Instead, we have to use string concantanation:"
   ]
  },
  {
   "cell_type": "code",
   "execution_count": 67,
   "id": "befb08fe",
   "metadata": {},
   "outputs": [],
   "source": [
    "last_letters = name[1:]"
   ]
  },
  {
   "cell_type": "code",
   "execution_count": 68,
   "id": "eac36f5e",
   "metadata": {},
   "outputs": [
    {
     "data": {
      "text/plain": [
       "'am'"
      ]
     },
     "execution_count": 68,
     "metadata": {},
     "output_type": "execute_result"
    }
   ],
   "source": [
    "last_letters"
   ]
  },
  {
   "cell_type": "code",
   "execution_count": 69,
   "id": "f6f67a7a",
   "metadata": {},
   "outputs": [
    {
     "data": {
      "text/plain": [
       "'Pam'"
      ]
     },
     "execution_count": 69,
     "metadata": {},
     "output_type": "execute_result"
    }
   ],
   "source": [
    "'P' + last_letters"
   ]
  },
  {
   "cell_type": "code",
   "execution_count": 70,
   "id": "69824629",
   "metadata": {},
   "outputs": [],
   "source": [
    "x = 'Hello World'"
   ]
  },
  {
   "cell_type": "code",
   "execution_count": 72,
   "id": "fecb4994",
   "metadata": {},
   "outputs": [
    {
     "data": {
      "text/plain": [
       "'Hello World it is beautiful outside!'"
      ]
     },
     "execution_count": 72,
     "metadata": {},
     "output_type": "execute_result"
    }
   ],
   "source": [
    "x + \" it is beautiful outside!\""
   ]
  },
  {
   "cell_type": "code",
   "execution_count": 73,
   "id": "30202496",
   "metadata": {},
   "outputs": [],
   "source": [
    "x = x + \" it is beautiful outside!\""
   ]
  },
  {
   "cell_type": "code",
   "execution_count": 74,
   "id": "628ac910",
   "metadata": {},
   "outputs": [
    {
     "data": {
      "text/plain": [
       "'Hello World it is beautiful outside!'"
      ]
     },
     "execution_count": 74,
     "metadata": {},
     "output_type": "execute_result"
    }
   ],
   "source": [
    "x"
   ]
  },
  {
   "cell_type": "code",
   "execution_count": 75,
   "id": "bd34e277",
   "metadata": {},
   "outputs": [],
   "source": [
    "letter = 'z'"
   ]
  },
  {
   "cell_type": "code",
   "execution_count": 76,
   "id": "470cd8ff",
   "metadata": {},
   "outputs": [
    {
     "data": {
      "text/plain": [
       "'zzzzzzzzzz'"
      ]
     },
     "execution_count": 76,
     "metadata": {},
     "output_type": "execute_result"
    }
   ],
   "source": [
    "letter * 10"
   ]
  },
  {
   "cell_type": "markdown",
   "id": "9a72915e",
   "metadata": {},
   "source": [
    "#### Integer Math vs. String Concatanation"
   ]
  },
  {
   "cell_type": "code",
   "execution_count": 77,
   "id": "b342e320",
   "metadata": {},
   "outputs": [
    {
     "data": {
      "text/plain": [
       "5"
      ]
     },
     "execution_count": 77,
     "metadata": {},
     "output_type": "execute_result"
    }
   ],
   "source": [
    "2 + 3"
   ]
  },
  {
   "cell_type": "code",
   "execution_count": 78,
   "id": "077a94d9",
   "metadata": {},
   "outputs": [
    {
     "data": {
      "text/plain": [
       "'23'"
      ]
     },
     "execution_count": 78,
     "metadata": {},
     "output_type": "execute_result"
    }
   ],
   "source": [
    "'2' + '3'"
   ]
  },
  {
   "cell_type": "markdown",
   "id": "1d7f9f30",
   "metadata": {},
   "source": [
    "### String Methods"
   ]
  },
  {
   "cell_type": "code",
   "execution_count": 80,
   "id": "8e78ac0b",
   "metadata": {},
   "outputs": [],
   "source": [
    "x = 'Hello World'"
   ]
  },
  {
   "cell_type": "code",
   "execution_count": 81,
   "id": "ef6b2609",
   "metadata": {},
   "outputs": [],
   "source": [
    "#Type out x. tab to see string methods"
   ]
  },
  {
   "cell_type": "code",
   "execution_count": 82,
   "id": "48705837",
   "metadata": {},
   "outputs": [
    {
     "data": {
      "text/plain": [
       "'HELLO WORLD'"
      ]
     },
     "execution_count": 82,
     "metadata": {},
     "output_type": "execute_result"
    }
   ],
   "source": [
    "x.upper()"
   ]
  },
  {
   "cell_type": "code",
   "execution_count": 83,
   "id": "c79c1752",
   "metadata": {},
   "outputs": [
    {
     "data": {
      "text/plain": [
       "'hello world'"
      ]
     },
     "execution_count": 83,
     "metadata": {},
     "output_type": "execute_result"
    }
   ],
   "source": [
    "x.lower()"
   ]
  },
  {
   "cell_type": "markdown",
   "id": "b60623eb",
   "metadata": {},
   "source": [
    "Here methods are not in place, i.e., they do not affect the original string unless you reassign it back to the variable"
   ]
  },
  {
   "cell_type": "code",
   "execution_count": 86,
   "id": "b26e103a",
   "metadata": {},
   "outputs": [
    {
     "data": {
      "text/plain": [
       "['Hello', 'World']"
      ]
     },
     "execution_count": 86,
     "metadata": {},
     "output_type": "execute_result"
    }
   ],
   "source": [
    "x.split() #split a string based on the whitespace by default"
   ]
  },
  {
   "cell_type": "code",
   "execution_count": 87,
   "id": "7a626b88",
   "metadata": {},
   "outputs": [],
   "source": [
    "x = \"Hi this is a string\""
   ]
  },
  {
   "cell_type": "code",
   "execution_count": 89,
   "id": "190f980a",
   "metadata": {},
   "outputs": [
    {
     "data": {
      "text/plain": [
       "['H', ' th', 's ', 's a str', 'ng']"
      ]
     },
     "execution_count": 89,
     "metadata": {},
     "output_type": "execute_result"
    }
   ],
   "source": [
    "x.split('i') #splitting based on the i, so the i is removed and whitespaces are included"
   ]
  },
  {
   "cell_type": "markdown",
   "id": "4cf6e8c9",
   "metadata": {},
   "source": [
    "## Print Formatting with Strings"
   ]
  },
  {
   "cell_type": "markdown",
   "id": "24a453a7",
   "metadata": {},
   "source": [
    "String formatting lets you inject items into a string rather than trying to chain items together using commas or string concatenation. As a quick comparison, consider:\n",
    "\n",
    "player = 'Thomas'\n",
    "\n",
    "points = 33\n",
    "\n",
    "'Last night, '+player+' scored '+str(points)+' points.'  # concatenation\n",
    "\n",
    "f'Last night, {player} scored {points} points.'          # string formatting"
   ]
  },
  {
   "cell_type": "markdown",
   "id": "94fda3a5",
   "metadata": {},
   "source": [
    "### Formatting with the `.format()` method. The syntax for this is:\n",
    "'String here {} then alse {}'.format('something1', 'something2')"
   ]
  },
  {
   "cell_type": "code",
   "execution_count": 90,
   "id": "c66c577a",
   "metadata": {},
   "outputs": [
    {
     "name": "stdout",
     "output_type": "stream",
     "text": [
      "This is a string INSERTED\n"
     ]
    }
   ],
   "source": [
    "print('This is a string {}'.format('INSERTED'))"
   ]
  },
  {
   "cell_type": "markdown",
   "id": "aeecacd0",
   "metadata": {},
   "source": [
    "By default, the strings supplied are put in the same order"
   ]
  },
  {
   "cell_type": "code",
   "execution_count": 91,
   "id": "2a22a0b3",
   "metadata": {},
   "outputs": [
    {
     "name": "stdout",
     "output_type": "stream",
     "text": [
      "The fox brown quick\n"
     ]
    }
   ],
   "source": [
    "print('The {} {} {}'.format('fox', 'brown', 'quick'))"
   ]
  },
  {
   "cell_type": "markdown",
   "id": "9715f7e3",
   "metadata": {},
   "source": [
    "1. But if you want to change the order, we can use index positioning"
   ]
  },
  {
   "cell_type": "code",
   "execution_count": 92,
   "id": "f044e521",
   "metadata": {},
   "outputs": [
    {
     "name": "stdout",
     "output_type": "stream",
     "text": [
      "The quick brown fox\n"
     ]
    }
   ],
   "source": [
    "print('The {2} {1} {0}'.format('fox', 'brown', 'quick'))"
   ]
  },
  {
   "cell_type": "code",
   "execution_count": 93,
   "id": "316b3e6d",
   "metadata": {},
   "outputs": [
    {
     "name": "stdout",
     "output_type": "stream",
     "text": [
      "The fox fox fox\n"
     ]
    }
   ],
   "source": [
    "print('The {0} {0} {0}'.format('fox', 'brown', 'quick'))"
   ]
  },
  {
   "cell_type": "markdown",
   "id": "4b66c12f",
   "metadata": {},
   "source": [
    "2. Or you can use keywords like:"
   ]
  },
  {
   "cell_type": "code",
   "execution_count": 94,
   "id": "dc2ddd29",
   "metadata": {},
   "outputs": [
    {
     "name": "stdout",
     "output_type": "stream",
     "text": [
      "The quick brown fox\n"
     ]
    }
   ],
   "source": [
    "print('The {q} {b} {f}'.format(f = 'fox', b = 'brown', q = 'quick'))"
   ]
  },
  {
   "cell_type": "markdown",
   "id": "76d66353",
   "metadata": {},
   "source": [
    "3. Repitition"
   ]
  },
  {
   "cell_type": "code",
   "execution_count": 113,
   "id": "9af2c54c",
   "metadata": {},
   "outputs": [
    {
     "name": "stdout",
     "output_type": "stream",
     "text": [
      "A penny saved is a penny earned.\n"
     ]
    }
   ],
   "source": [
    "print('A {p} saved is a {p} earned.'.format(p='penny'))"
   ]
  },
  {
   "cell_type": "markdown",
   "id": "b59f5726",
   "metadata": {},
   "source": [
    "### Alignment and Padding with `.format()` "
   ]
  },
  {
   "cell_type": "markdown",
   "id": "715a9075",
   "metadata": {},
   "source": [
    "Within the curly braces, assign the field lengths, left/right alignments, rounding parameters etc."
   ]
  },
  {
   "cell_type": "code",
   "execution_count": 123,
   "id": "bead3db4",
   "metadata": {},
   "outputs": [
    {
     "name": "stdout",
     "output_type": "stream",
     "text": [
      "Fruit  |  Quantity\n",
      "Apples  |        3.0\n",
      "Oranges   |         10\n"
     ]
    }
   ],
   "source": [
    "print('{0:1}  |  {1:3}'.format('Fruit', 'Quantity')) #here 0 and 1 specify the index of the strings to insert\n",
    "print('{0:6}  |  {1:9}'.format('Apples', 3.)) #the 6 and 9 specify the field length\n",
    "print('{0:8}  |  {1:9}'.format('Oranges', 10))"
   ]
  },
  {
   "cell_type": "markdown",
   "id": "7710b97c",
   "metadata": {},
   "source": [
    "By default, `.format()` aligns text to the left, numbers to the right. You can pass an optional `<`,`^`, or `>`to set a left, center or right alignment:"
   ]
  },
  {
   "cell_type": "code",
   "execution_count": 126,
   "id": "79cde302",
   "metadata": {},
   "outputs": [
    {
     "name": "stdout",
     "output_type": "stream",
     "text": [
      "Left     |  Center  |    Right\n",
      "11       |    22    |       33\n"
     ]
    }
   ],
   "source": [
    "print('{0:<8} | {1:^8} | {2:>8}'.format('Left','Center','Right'))\n",
    "print('{0:<8} | {1:^8} | {2:>8}'.format(11,22,33))\n",
    "#here the words left and 11 are aligned to the left, center and 22 aligned to the centre and right and 33 aligned to the right"
   ]
  },
  {
   "cell_type": "markdown",
   "id": "207fa796",
   "metadata": {},
   "source": [
    "You can preced the alignment with a padding character"
   ]
  },
  {
   "cell_type": "code",
   "execution_count": 128,
   "id": "84257cef",
   "metadata": {},
   "outputs": [
    {
     "name": "stdout",
     "output_type": "stream",
     "text": [
      "Left==== | -Center- | ...Right\n",
      "11       |    22    |       33\n"
     ]
    }
   ],
   "source": [
    "print('{0:=<8} | {1:-^8} | {2:.>8}'.format('Left','Center','Right'))\n",
    "print('{0:<8} | {1:^8} | {2:>8}'.format(11,22,33))\n",
    "#note the difference with and without padding in the two lines"
   ]
  },
  {
   "cell_type": "markdown",
   "id": "2dadd483",
   "metadata": {},
   "source": [
    "### Float formatting"
   ]
  },
  {
   "cell_type": "markdown",
   "id": "56dc182e",
   "metadata": {},
   "source": [
    "syntax : \"{value:width.precision f}"
   ]
  },
  {
   "cell_type": "code",
   "execution_count": 95,
   "id": "84e57c17",
   "metadata": {},
   "outputs": [],
   "source": [
    "result = 100/777"
   ]
  },
  {
   "cell_type": "code",
   "execution_count": 96,
   "id": "75d4c1f3",
   "metadata": {},
   "outputs": [
    {
     "data": {
      "text/plain": [
       "0.1287001287001287"
      ]
     },
     "execution_count": 96,
     "metadata": {},
     "output_type": "execute_result"
    }
   ],
   "source": [
    "result"
   ]
  },
  {
   "cell_type": "markdown",
   "id": "b712293c",
   "metadata": {},
   "source": [
    "Say we want only the first 3 decimal points"
   ]
  },
  {
   "cell_type": "code",
   "execution_count": 100,
   "id": "a85b3ffe",
   "metadata": {},
   "outputs": [
    {
     "name": "stdout",
     "output_type": "stream",
     "text": [
      "The result is 0.129\n"
     ]
    }
   ],
   "source": [
    "print(\"The result is {r:1.3f}\".format(r=result)) #usually leave width as 1, precision specifies decimal point"
   ]
  },
  {
   "cell_type": "code",
   "execution_count": 101,
   "id": "287be466",
   "metadata": {},
   "outputs": [
    {
     "name": "stdout",
     "output_type": "stream",
     "text": [
      "The result is    0.12870\n"
     ]
    }
   ],
   "source": [
    "print(\"The result is {r:10.5f}\".format(r=result)) #here we have increased the width"
   ]
  },
  {
   "cell_type": "code",
   "execution_count": 104,
   "id": "ee9b4ab9",
   "metadata": {},
   "outputs": [],
   "source": [
    "result = 104.12348 #keeps the section after the decimal to 4 points and rounds up"
   ]
  },
  {
   "cell_type": "code",
   "execution_count": 105,
   "id": "b366619e",
   "metadata": {},
   "outputs": [
    {
     "name": "stdout",
     "output_type": "stream",
     "text": [
      "The result is 104.1235\n"
     ]
    }
   ],
   "source": [
    "print('The result is {r:1.4f}'.format(r=result))"
   ]
  },
  {
   "cell_type": "markdown",
   "id": "5ba3dcad",
   "metadata": {},
   "source": [
    "So option 1 with float formatting:"
   ]
  },
  {
   "cell_type": "code",
   "execution_count": 107,
   "id": "6f8dbceb",
   "metadata": {},
   "outputs": [],
   "source": [
    "name = 'Nanditha'"
   ]
  },
  {
   "cell_type": "code",
   "execution_count": 108,
   "id": "dae15069",
   "metadata": {},
   "outputs": [
    {
     "name": "stdout",
     "output_type": "stream",
     "text": [
      "Her name is Nanditha\n"
     ]
    }
   ],
   "source": [
    "print('Her name is {}'.format(name))"
   ]
  },
  {
   "cell_type": "markdown",
   "id": "6d8c40ef",
   "metadata": {},
   "source": [
    "## String Literal Method (f-strings)"
   ]
  },
  {
   "cell_type": "markdown",
   "id": "d8297792",
   "metadata": {},
   "source": [
    "Option 2 with formatted string literals"
   ]
  },
  {
   "cell_type": "code",
   "execution_count": 106,
   "id": "5a549417",
   "metadata": {},
   "outputs": [],
   "source": [
    "name = 'Nanditha'"
   ]
  },
  {
   "cell_type": "code",
   "execution_count": 109,
   "id": "c4aeba31",
   "metadata": {},
   "outputs": [
    {
     "name": "stdout",
     "output_type": "stream",
     "text": [
      "Her name is Nanditha\n"
     ]
    }
   ],
   "source": [
    "print(f'Her name is {name}')"
   ]
  },
  {
   "cell_type": "markdown",
   "id": "67ca36d9",
   "metadata": {},
   "source": [
    "With multiple variables"
   ]
  },
  {
   "cell_type": "code",
   "execution_count": 110,
   "id": "2e643b8f",
   "metadata": {},
   "outputs": [],
   "source": [
    "name = 'Sam'\n",
    "age = 3"
   ]
  },
  {
   "cell_type": "code",
   "execution_count": 112,
   "id": "7598a4b2",
   "metadata": {
    "scrolled": true
   },
   "outputs": [
    {
     "name": "stdout",
     "output_type": "stream",
     "text": [
      "Sam is 3 years old\n"
     ]
    }
   ],
   "source": [
    "print(f'{name} is {age} years old')"
   ]
  },
  {
   "cell_type": "markdown",
   "id": "1b7b3eca",
   "metadata": {},
   "source": [
    "# Lists"
   ]
  },
  {
   "cell_type": "code",
   "execution_count": 155,
   "id": "cecd26e4",
   "metadata": {},
   "outputs": [],
   "source": [
    "my_list = [1,2,3]"
   ]
  },
  {
   "cell_type": "code",
   "execution_count": 156,
   "id": "90d412ad",
   "metadata": {},
   "outputs": [
    {
     "data": {
      "text/plain": [
       "list"
      ]
     },
     "execution_count": 156,
     "metadata": {},
     "output_type": "execute_result"
    }
   ],
   "source": [
    "type(my_list)"
   ]
  },
  {
   "cell_type": "code",
   "execution_count": 157,
   "id": "cf268a9a",
   "metadata": {},
   "outputs": [
    {
     "data": {
      "text/plain": [
       "3"
      ]
     },
     "execution_count": 157,
     "metadata": {},
     "output_type": "execute_result"
    }
   ],
   "source": [
    "len(my_list) # returns how many elements or items are in the list"
   ]
  },
  {
   "cell_type": "markdown",
   "id": "a1b7ec0d",
   "metadata": {},
   "source": [
    "### Indexing and Slicing lists"
   ]
  },
  {
   "cell_type": "code",
   "execution_count": 158,
   "id": "2a9362dd",
   "metadata": {},
   "outputs": [
    {
     "data": {
      "text/plain": [
       "1"
      ]
     },
     "execution_count": 158,
     "metadata": {},
     "output_type": "execute_result"
    }
   ],
   "source": [
    "my_list[0]"
   ]
  },
  {
   "cell_type": "code",
   "execution_count": 159,
   "id": "b329ddb4",
   "metadata": {},
   "outputs": [
    {
     "data": {
      "text/plain": [
       "[2, 3]"
      ]
     },
     "execution_count": 159,
     "metadata": {},
     "output_type": "execute_result"
    }
   ],
   "source": [
    "my_list[1:]"
   ]
  },
  {
   "cell_type": "markdown",
   "id": "e6cba9ff",
   "metadata": {},
   "source": [
    "### Concatanating Lists"
   ]
  },
  {
   "cell_type": "code",
   "execution_count": 160,
   "id": "ba0568fe",
   "metadata": {},
   "outputs": [],
   "source": [
    "another_list = ['four', 5.6] #Lists can have any data type within it"
   ]
  },
  {
   "cell_type": "code",
   "execution_count": 161,
   "id": "282ed667",
   "metadata": {},
   "outputs": [
    {
     "data": {
      "text/plain": [
       "[1, 2, 3, 'four', 5.6]"
      ]
     },
     "execution_count": 161,
     "metadata": {},
     "output_type": "execute_result"
    }
   ],
   "source": [
    "my_list + another_list #this does not permanantly change either list unless you assign it to a new list"
   ]
  },
  {
   "cell_type": "markdown",
   "id": "29ece526",
   "metadata": {},
   "source": [
    "### Mutating Lists"
   ]
  },
  {
   "cell_type": "markdown",
   "id": "788782e6",
   "metadata": {},
   "source": [
    "Unlike strings, you can change/mutate the elements in a list"
   ]
  },
  {
   "cell_type": "code",
   "execution_count": 162,
   "id": "28710b1b",
   "metadata": {},
   "outputs": [
    {
     "data": {
      "text/plain": [
       "[1, 2, 3]"
      ]
     },
     "execution_count": 162,
     "metadata": {},
     "output_type": "execute_result"
    }
   ],
   "source": [
    "my_list"
   ]
  },
  {
   "cell_type": "code",
   "execution_count": 163,
   "id": "ef0ea390",
   "metadata": {},
   "outputs": [],
   "source": [
    "my_list[2] = \"three\""
   ]
  },
  {
   "cell_type": "code",
   "execution_count": 164,
   "id": "278e18ea",
   "metadata": {},
   "outputs": [
    {
     "data": {
      "text/plain": [
       "[1, 2, 'three']"
      ]
     },
     "execution_count": 164,
     "metadata": {},
     "output_type": "execute_result"
    }
   ],
   "source": [
    "my_list"
   ]
  },
  {
   "cell_type": "markdown",
   "id": "2529d8f7",
   "metadata": {},
   "source": [
    "### Adding/appending an element to the list using `.append()`"
   ]
  },
  {
   "cell_type": "code",
   "execution_count": 165,
   "id": "4397a87e",
   "metadata": {},
   "outputs": [],
   "source": [
    "my_list.append('four')"
   ]
  },
  {
   "cell_type": "code",
   "execution_count": 166,
   "id": "2ce685ca",
   "metadata": {},
   "outputs": [
    {
     "data": {
      "text/plain": [
       "[1, 2, 'three', 'four']"
      ]
     },
     "execution_count": 166,
     "metadata": {},
     "output_type": "execute_result"
    }
   ],
   "source": [
    "my_list #this permanently changes the list, i.e., appends it in place"
   ]
  },
  {
   "cell_type": "code",
   "execution_count": 167,
   "id": "bf040ab8",
   "metadata": {},
   "outputs": [],
   "source": [
    "my_list.append(5)"
   ]
  },
  {
   "cell_type": "code",
   "execution_count": 168,
   "id": "eaae2e3d",
   "metadata": {},
   "outputs": [
    {
     "data": {
      "text/plain": [
       "[1, 2, 'three', 'four', 5]"
      ]
     },
     "execution_count": 168,
     "metadata": {},
     "output_type": "execute_result"
    }
   ],
   "source": [
    "my_list"
   ]
  },
  {
   "cell_type": "markdown",
   "id": "fd23501b",
   "metadata": {},
   "source": [
    "### Removing or 'Popping' elements off a list using `.pop()`"
   ]
  },
  {
   "cell_type": "code",
   "execution_count": 169,
   "id": "c93bcac8",
   "metadata": {},
   "outputs": [
    {
     "data": {
      "text/plain": [
       "5"
      ]
     },
     "execution_count": 169,
     "metadata": {},
     "output_type": "execute_result"
    }
   ],
   "source": [
    "my_list.pop() #automatically removes the last element in place and returns the popped off element "
   ]
  },
  {
   "cell_type": "code",
   "execution_count": 170,
   "id": "75aa4f29",
   "metadata": {},
   "outputs": [
    {
     "data": {
      "text/plain": [
       "[1, 2, 'three', 'four']"
      ]
     },
     "execution_count": 170,
     "metadata": {},
     "output_type": "execute_result"
    }
   ],
   "source": [
    "my_list #you can see here that the list no longer includes 5"
   ]
  },
  {
   "cell_type": "markdown",
   "id": "67fbf2ab",
   "metadata": {},
   "source": [
    "You can save this popped off item as a variable"
   ]
  },
  {
   "cell_type": "code",
   "execution_count": 171,
   "id": "65d66bfc",
   "metadata": {},
   "outputs": [],
   "source": [
    "popped_item = my_list.pop()"
   ]
  },
  {
   "cell_type": "code",
   "execution_count": 172,
   "id": "6d5523f0",
   "metadata": {},
   "outputs": [
    {
     "data": {
      "text/plain": [
       "'four'"
      ]
     },
     "execution_count": 172,
     "metadata": {},
     "output_type": "execute_result"
    }
   ],
   "source": [
    "popped_item #removed the last element of the list, i.e., 'four'"
   ]
  },
  {
   "cell_type": "code",
   "execution_count": 173,
   "id": "dc6ca7f1",
   "metadata": {},
   "outputs": [
    {
     "data": {
      "text/plain": [
       "[1, 2, 'three']"
      ]
     },
     "execution_count": 173,
     "metadata": {},
     "output_type": "execute_result"
    }
   ],
   "source": [
    "my_list #no longer has 'four'"
   ]
  },
  {
   "cell_type": "markdown",
   "id": "beb3ca7f",
   "metadata": {},
   "source": [
    "If you want to remove an element that is not at the end, you can pass in index position to the `.pop()` method"
   ]
  },
  {
   "cell_type": "code",
   "execution_count": 174,
   "id": "3f08492d",
   "metadata": {},
   "outputs": [
    {
     "data": {
      "text/plain": [
       "2"
      ]
     },
     "execution_count": 174,
     "metadata": {},
     "output_type": "execute_result"
    }
   ],
   "source": [
    "my_list.pop(1) #popped off element at index position 1, here 2"
   ]
  }
 ],
 "metadata": {
  "kernelspec": {
   "display_name": "Python 3 (ipykernel)",
   "language": "python",
   "name": "python3"
  },
  "language_info": {
   "codemirror_mode": {
    "name": "ipython",
    "version": 3
   },
   "file_extension": ".py",
   "mimetype": "text/x-python",
   "name": "python",
   "nbconvert_exporter": "python",
   "pygments_lexer": "ipython3",
   "version": "3.9.12"
  }
 },
 "nbformat": 4,
 "nbformat_minor": 5
}
